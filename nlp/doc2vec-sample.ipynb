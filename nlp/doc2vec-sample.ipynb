{
 "cells": [
  {
   "cell_type": "markdown",
   "metadata": {},
   "source": [
    "# IMDB Movies Dataset Analysis using Doc2Vec"
   ]
  },
  {
   "cell_type": "markdown",
   "metadata": {},
   "source": [
    "## Preprocessing Step"
   ]
  },
  {
   "cell_type": "code",
   "execution_count": 1,
   "metadata": {},
   "outputs": [],
   "source": [
    "import nltk\n",
    "from nltk.corpus import stopwords\n",
    "from nltk.stem import WordNetLemmatizer\n",
    "from nltk import word_tokenize\n",
    "import string\n",
    "\n",
    "wordnet_lemmatizer = WordNetLemmatizer()\n",
    "stopwords = nltk.corpus.stopwords.words('english')\n",
    "\n",
    "def readSentenceAndPreprocess(sentence):\n",
    "\t# Remove stopwords\n",
    "\trecord = unicode(sentence.lower(), \"utf-8\")\n",
    "\trecord = word_tokenize(record)\n",
    "\trecord = [wordnet_lemmatizer.lemmatize(x) for x in record if x not in string.punctuation]\n",
    "\tsentence = [w for w in record if w not in stopwords]\n",
    "\treturn sentence"
   ]
  },
  {
   "cell_type": "markdown",
   "metadata": {},
   "source": [
    "## Loading the model"
   ]
  },
  {
   "cell_type": "code",
   "execution_count": 2,
   "metadata": {},
   "outputs": [],
   "source": [
    "from gensim import models\n",
    "\n",
    "model = models.Doc2Vec.load('imdb-doc2vec.model')"
   ]
  },
  {
   "cell_type": "markdown",
   "metadata": {},
   "source": [
    "## Keyword-Test Paragraph Similarity Matrix"
   ]
  },
  {
   "cell_type": "code",
   "execution_count": 4,
   "metadata": {
    "scrolled": false
   },
   "outputs": [
    {
     "name": "stdout",
     "output_type": "stream",
     "text": [
      "Top 10 Similar words:\n",
      "lion_king\n",
      "      Word     Score\n",
      "0   rafiki  0.330048\n",
      "1    simba  0.314177\n",
      "2   matata  0.284346\n",
      "3   pumbaa  0.282482\n",
      "4  sabella  0.282138\n",
      "5    timon  0.267771\n",
      "6       1½  0.266465\n",
      "7     1/2\\  0.248916\n",
      "8   hakuna  0.236737\n",
      "9    marge  0.235552\n",
      "\n",
      "batman\n",
      "        Word     Score\n",
      "0    batgirl  0.354142\n",
      "1    penguin  0.295907\n",
      "2       btas  0.272044\n",
      "3   batwoman  0.271066\n",
      "4         wb  0.268728\n",
      "5    o'hearn  0.258377\n",
      "6     gotham  0.246168\n",
      "7      joker  0.243499\n",
      "8  nightwing  0.242217\n",
      "9    bartram  0.232965\n",
      "\n",
      "pokemon\n",
      "      Word     Score\n",
      "0   celebi  0.475934\n",
      "1  suicune  0.431710\n",
      "2    4ever  0.345238\n",
      "3  things\\  0.265295\n",
      "4  pikachu  0.231380\n",
      "5      vol  0.227041\n",
      "6  miramax  0.223460\n",
      "7    misty  0.217513\n",
      "8    brock  0.216896\n",
      "9    lugia  0.216481\n",
      "\n",
      "matrix\n",
      "          Word     Score\n",
      "0     reloaded  0.282041\n",
      "1     morpheus  0.237963\n",
      "2   simulation  0.213727\n",
      "3       kaiser  0.192410\n",
      "4  iconography  0.192259\n",
      "5         j.j.  0.184706\n",
      "6    \\special\\  0.182963\n",
      "7     trickery  0.182767\n",
      "8       truth\\  0.182744\n",
      "9  renaissance  0.182124\n",
      "\n",
      "darth_vader\n",
      "        Word     Score\n",
      "0       leia  0.487074\n",
      "1       sith  0.454924\n",
      "2  palpatine  0.446418\n",
      "3       yoda  0.440748\n",
      "4      endor  0.413773\n",
      "5      lando  0.410392\n",
      "6   tatooine  0.405396\n",
      "7       jedi  0.372744\n",
      "8  chewbacca  0.361869\n",
      "9  skywalker  0.355867\n",
      "\n"
     ]
    }
   ],
   "source": [
    "from gensim import models\n",
    "import pandas\n",
    "import numpy as np\n",
    "\n",
    "# get top 10 similar words to keyword from model\n",
    "keywords = [[\"lion\",\"king\"], [\"batman\"],[\"pokemon\"],[\"matrix\"],[\"darth\",\"vader\"]]\n",
    "print \"Top 10 Similar words:\"\n",
    "for keyword in keywords:\n",
    "    print \"\\n\" + '_'.join(keyword)\n",
    "    print pandas.DataFrame(model.wv.most_similar(positive=keyword, topn=10), columns=['Word','Score'])"
   ]
  }
 ],
 "metadata": {
  "kernelspec": {
   "display_name": "Python 2",
   "language": "python",
   "name": "python2"
  },
  "language_info": {
   "codemirror_mode": {
    "name": "ipython",
    "version": 3
   },
   "file_extension": ".py",
   "mimetype": "text/x-python",
   "name": "python",
   "nbconvert_exporter": "python",
   "pygments_lexer": "ipython3",
   "version": "3.5.2"
  }
 },
 "nbformat": 4,
 "nbformat_minor": 2
}
