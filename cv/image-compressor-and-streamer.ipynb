{
 "cells": [
  {
   "cell_type": "markdown",
   "metadata": {},
   "source": [
    "# Image Compressor and Streamer\n",
    "\n",
    "### Source\n",
    "#### Compress images using JPEG lossy compression, serialize and send via socket\n",
    "\n",
    "### Destination\n",
    "#### Receive compressed image via listener and deserialize and decompress to reconstruct image"
   ]
  },
  {
   "cell_type": "code",
   "execution_count": 1,
   "metadata": {},
   "outputs": [],
   "source": [
    "# load libraries\n",
    "import cv2\n",
    "import sys\n",
    "import numpy as np\n",
    "import pickle as pickle\n",
    "import struct\n",
    "import socket\n",
    "import zstd # compression library from Facebook\n",
    "from IPython.display import HTML"
   ]
  },
  {
   "cell_type": "code",
   "execution_count": null,
   "metadata": {},
   "outputs": [
    {
     "name": "stdout",
     "output_type": "stream",
     "text": [
      "Socket created\n",
      "Socket bind complete\n",
      "Socket now listening\n"
     ]
    }
   ],
   "source": [
    "# Server side:\n",
    "def recvall(sock, count):\n",
    "    buf = b''\n",
    "    while count:\n",
    "        newbuf = sock.recv(count)\n",
    "        if not newbuf:\n",
    "        \tprint(\"unable to get stream\") \n",
    "        \treturn None\n",
    "        buf += newbuf\n",
    "        count -= len(newbuf)\n",
    "    return buf\n",
    "\n",
    "HOST=''\n",
    "PORT=8090 # port 8090\n",
    "\n",
    "s=socket.socket(socket.AF_INET,socket.SOCK_STREAM)\n",
    "print('Socket created')\n",
    "\n",
    "s.bind((HOST,PORT))\n",
    "print('Socket bind complete')\n",
    "s.listen(True)\n",
    "print('Socket now listening')\n",
    "\n",
    "conn,addr=s.accept()\n",
    "\n",
    "while True:\n",
    "    length = recvall(conn,16)\n",
    "    print(\"size of bytestream received: \" + str(length))\n",
    "    print(\"deserializing: \")\n",
    "    frame_compressed = pickle.loads(recvall(conn, int(length)))\n",
    "    print(sys.getsizeof(frame_compressed))\n",
    "    \n",
    "    # decompress frame\n",
    "    string_data = zstd.decompress(frame_compressed)\n",
    "    print(\"size of numpy string after decompression: \" + str(sys.getsizeof(string_data)))\n",
    "    \n",
    "    # get numpy array and decode the image\n",
    "    data = np.fromstring(string_data, dtype='uint8')\n",
    "    decimg=cv2.imdecode(data,1)\n",
    "    print(\"decoded image size: \" + str(sys.getsizeof(decimg)))\n",
    "    \n",
    "    cv2.imshow(\"server_side\",decimg)\n",
    "    print(\" \")\n",
    "    if cv2.waitKey(25) & 0xFF==ord('q'):\n",
    "        break\n",
    "cv2.destroyAllWindows()\n",
    "cap.release()\n",
    "s.close()"
   ]
  },
  {
   "cell_type": "code",
   "execution_count": null,
   "metadata": {},
   "outputs": [],
   "source": [
    "# Client (source):\n",
    "# socket connection establishment\n",
    "clientsocket=socket.socket(socket.AF_INET,socket.SOCK_STREAM)\n",
    "clientsocket.connect(('localhost',8090)) # port to connect to server\n",
    "\n",
    "# stream using opencv and store video file\n",
    "cap=cv2.VideoCapture(0) #webcam\n",
    "\n",
    "# jpeg lossy compression\n",
    "encode_param=[int(cv2.IMWRITE_JPEG_QUALITY),50]\n",
    "\n",
    "while (True):\n",
    "    ret,image_np_org =cap.read()\n",
    "    image_np = image_np_org\n",
    "    #image_np = cv2.resize(image_np_org, (416,416))\n",
    "    print(\"original image size: \" + str(sys.getsizeof(image_np)))\n",
    "    cv2.imshow(\"original\",image_np)\n",
    "    \n",
    "    print(\"encoding - lossy jpeg compression:\")\n",
    "    result, imgencode = cv2.imencode('.jpg', image_np, encode_param)\n",
    "    print(\"size of image after encoding: \" + str(sys.getsizeof(imgencode)))\n",
    "    \n",
    "    print(\"converting to numpy array:\")\n",
    "    data_img = np.array(imgencode)\n",
    "    stringData = data_img.tostring()\n",
    "    print(\"after encoding and converting to numpy array: \" + str(sys.getsizeof(stringData)))\n",
    "    \n",
    "    # zstd compression\n",
    "    data_compressed = zstd.compress(stringData,20)\n",
    "    print(\"after compression: \" + str(sys.getsizeof(data_compressed)))\n",
    "    \n",
    "    data = pickle.dumps(data_compressed)\n",
    "    print(\"after serialization: \" + str(sys.getsizeof(data)))\n",
    "    print(\"sending via socket: \")\n",
    "    clientsocket.send((str(len(data)).ljust(16)).encode('utf-8','ignore'))\n",
    "    clientsocket.send(data)\n",
    "    print(\" \")\n",
    "    if cv2.waitKey(25) & 0xFF==ord('q'):\n",
    "        break\n",
    "cv2.destroyAllWindows()\n",
    "cap.release()\n",
    "clientsocket.close()"
   ]
  },
  {
   "cell_type": "markdown",
   "metadata": {},
   "source": [
    "### Compressing 920KB frame to 23KB and back.."
   ]
  },
  {
   "cell_type": "code",
   "execution_count": 13,
   "metadata": {},
   "outputs": [
    {
     "data": {
      "text/html": [
       "<img src=\"image_compressor.gif\" width=\"100%\">"
      ],
      "text/plain": [
       "<IPython.core.display.HTML object>"
      ]
     },
     "execution_count": 13,
     "metadata": {},
     "output_type": "execute_result"
    }
   ],
   "source": [
    "HTML('<img src=\"image_compressor.gif\" width=\"100%\">')"
   ]
  },
  {
   "cell_type": "code",
   "execution_count": 12,
   "metadata": {},
   "outputs": [
    {
     "data": {
      "text/html": [
       "<img src=\"image_compressor_snapshot.png\" width=\"100%\">"
      ],
      "text/plain": [
       "<IPython.core.display.HTML object>"
      ]
     },
     "execution_count": 12,
     "metadata": {},
     "output_type": "execute_result"
    }
   ],
   "source": [
    "# image snapshot\n",
    "HTML('<img src=\"image_compressor_snapshot.png\" width=\"100%\">')"
   ]
  },
  {
   "cell_type": "code",
   "execution_count": null,
   "metadata": {},
   "outputs": [],
   "source": []
  }
 ],
 "metadata": {
  "kernelspec": {
   "display_name": "Python 3",
   "language": "python",
   "name": "python3"
  },
  "language_info": {
   "codemirror_mode": {
    "name": "ipython",
    "version": 3
   },
   "file_extension": ".py",
   "mimetype": "text/x-python",
   "name": "python",
   "nbconvert_exporter": "python",
   "pygments_lexer": "ipython3",
   "version": "3.6.4"
  }
 },
 "nbformat": 4,
 "nbformat_minor": 2
}
