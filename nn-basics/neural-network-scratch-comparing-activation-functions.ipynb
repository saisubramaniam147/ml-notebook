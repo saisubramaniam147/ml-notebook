{
 "cells": [
  {
   "cell_type": "markdown",
   "metadata": {},
   "source": [
    "## Neural Network from scratch\n",
    "#### XOR operation using a Feed Forward Neural Network(Single Hidden Layer) with backpropagation"
   ]
  },
  {
   "cell_type": "code",
   "execution_count": 188,
   "metadata": {},
   "outputs": [],
   "source": [
    "# Import required libraries\n",
    "import numpy as np\n",
    "import math\n",
    "from matplotlib import pyplot as plt"
   ]
  },
  {
   "cell_type": "code",
   "execution_count": 297,
   "metadata": {},
   "outputs": [],
   "source": [
    "# Input dataset for XOR operation\n",
    "X = np.array([ [1, 1, 1], [1, 0, 1], [0, 1, 1],[0, 0, 1] ]) # 1 for bias\n",
    "\n",
    "# Output class\n",
    "Y = np.array([[0],[1],[1],[0]])\n",
    "\n",
    "# single hidden layer, number of nodes\n",
    "hidden_layer_nodes = 3\n",
    "\n",
    "# Learning rate\n",
    "#alpha = 0.6 # logistic\n",
    "alpha=0.01 #- for tanh and related\n",
    "#alpha=0.9 # relu\n",
    "\n",
    "# Epoch\n",
    "epoch = 10000\n",
    "\n",
    "# Convergence\n",
    "covergence_threshold = 0.001\n",
    "\n",
    "# weights\n",
    "# here weights are initialized by normal distribution\n",
    "w01 = np.random.normal(0, 1, len(X[0])*hidden_layer_nodes).reshape(len(X[0]),hidden_layer_nodes) # zero mean, unit variance\n",
    "w12 = np.random.normal(0, 1, hidden_layer_nodes*1).reshape(hidden_layer_nodes,1) # one output node"
   ]
  },
  {
   "cell_type": "code",
   "execution_count": 232,
   "metadata": {},
   "outputs": [],
   "source": [
    "def golden_ratio(i):\n",
    "    ratio = (1 + math.sqrt(5)) / 2\n",
    "    return int(ratio ** i / math.sqrt(5) + 0.5)"
   ]
  },
  {
   "cell_type": "code",
   "execution_count": 296,
   "metadata": {},
   "outputs": [],
   "source": [
    "PI = float(format(np.pi, '.20f'))"
   ]
  },
  {
   "cell_type": "code",
   "execution_count": 278,
   "metadata": {},
   "outputs": [],
   "source": [
    "# Define Activation Functions\n",
    "\n",
    "##########\n",
    "# tanh\n",
    "##########\n",
    "def tanh(x):\n",
    "    return np.tanh(x)\n",
    "def tanh_derivative(x):\n",
    "    return (1.0 - np.tanh(x)**2)\n",
    "\n",
    "##########\n",
    "# pi-tanh\n",
    "##########\n",
    "def pitanh(x):\n",
    "    return np.tanh(x)\n",
    "def pitanh_derivative(x):\n",
    "    return PI*(1.0 - np.tanh(x)**2)\n",
    "\n",
    "####################\n",
    "# gr-tanh\n",
    "####################\n",
    "def grtanh(x):\n",
    "    return np.tanh(x)\n",
    "def grtanh_derivative(x,i):\n",
    "    return golden_ratio(i)*(1.0 - np.tanh(x)**2)\n",
    "\n",
    "##########\n",
    "# sigmoid\n",
    "##########\n",
    "def logistic(x):\n",
    "    return 1/(1 + np.exp(-x))\n",
    "def logistic_derivative(x):\n",
    "    return logistic(x)*(1-logistic(x))\n",
    "\n",
    "##########\n",
    "# relu\n",
    "##########\n",
    "def relu(x):\n",
    "    return x * (x > 0)\n",
    "def relu_derivative(x):\n",
    "    x[x<=0] = 0\n",
    "    x[x>0] = 1\n",
    "    return x\n",
    "\n",
    "##########\n",
    "# leaky relu\n",
    "##########\n",
    "def lrelu(x):\n",
    "    return x * (x > 0)\n",
    "def lrelu_derivative(x):\n",
    "    x[x<=0] = 0.01\n",
    "    x[x>0] = 1\n",
    "    return x"
   ]
  },
  {
   "cell_type": "code",
   "execution_count": 4,
   "metadata": {},
   "outputs": [
    {
     "data": {
      "image/png": "[encoded data removed]",
      "text/plain": [
       "<matplotlib.figure.Figure at 0x1a9ea133d68>"
      ]
     },
     "metadata": {},
     "output_type": "display_data"
    }
   ],
   "source": [
    "# plot the data\n",
    "for index, row in enumerate(X):\n",
    "    if index == 0 or index == 3:\n",
    "        plt.scatter(row[0], row[1], marker='x', s=100, color='red')\n",
    "    else:\n",
    "        plt.scatter(row[0], row[1],marker='+', s=100, color='blue')"
   ]
  },
  {
   "cell_type": "markdown",
   "metadata": {},
   "source": [
    "##### Training the NN and plotting the loss across epoch"
   ]
  },
  {
   "cell_type": "code",
   "execution_count": 298,
   "metadata": {},
   "outputs": [
    {
     "name": "stdout",
     "output_type": "stream",
     "text": [
      "Prediction in epoch: 1\n",
      "[[0.98708366]\n",
      " [0.40516767]\n",
      " [0.99004603]\n",
      " [0.36351415]]\n",
      "Error in epoch: 1\n",
      "0.7302006410375054\n",
      "Prediction in epoch: 2\n",
      "[[0.97941965]\n",
      " [0.3591433 ]\n",
      " [0.98257048]\n",
      " [0.2587896 ]]\n",
      "Error in epoch: 2\n",
      "0.7186180043395382\n",
      "Prediction in epoch: 3\n",
      "[[0.96934761]\n",
      " [0.36535031]\n",
      " [0.97084129]\n",
      " [0.20382553]]\n",
      "Error in epoch: 3\n",
      "0.6924050492773737\n",
      "Prediction in epoch: 4\n",
      "[[0.95308118]\n",
      " [0.36982013]\n",
      " [0.95129338]\n",
      " [0.16263735]]\n",
      "Error in epoch: 4\n",
      "0.6671568228457817\n",
      "Prediction in epoch: 5\n",
      "[[0.92775972]\n",
      " [0.37426993]\n",
      " [0.92049365]\n",
      " [0.13463165]]\n",
      "Error in epoch: 5\n",
      "0.6383615812033521\n",
      "Prediction in epoch: 6\n",
      "[[0.89141021]\n",
      " [0.38111267]\n",
      " [0.87642108]\n",
      " [0.11958835]]\n",
      "Error in epoch: 6\n",
      "0.6036034072192061\n",
      "Prediction in epoch: 7\n",
      "[[0.8451168 ]\n",
      " [0.39232028]\n",
      " [0.82117474]\n",
      " [0.11737526]]\n",
      "Error in epoch: 7\n",
      "0.5646262351771594\n",
      "Prediction in epoch: 8\n",
      "[[0.79379416]\n",
      " [0.4083225 ]\n",
      " [0.76163574]\n",
      " [0.12712719]]\n",
      "Error in epoch: 8\n",
      "0.5265851358295002\n",
      "Prediction in epoch: 9\n",
      "[[0.74377741]\n",
      " [0.42763605]\n",
      " [0.70607247]\n",
      " [0.14645972]]\n",
      "Error in epoch: 9\n",
      "0.49432458246442434\n",
      "Prediction in epoch: 10\n",
      "[[0.69928573]\n",
      " [0.4475296 ]\n",
      " [0.6596567 ]\n",
      " [0.17152385]]\n",
      "Error in epoch: 10\n",
      "0.46973903581921705\n",
      "...................\n",
      "Prediction in epoch: 9995\n",
      "[[1.26314389e-03]\n",
      " [9.97524954e-01]\n",
      " [9.96786530e-01]\n",
      " [6.92226505e-04]]\n",
      "Error in epoch: 9995\n",
      "9.26347844480322e-06\n",
      "Prediction in epoch: 9996\n",
      "[[1.26301218e-03]\n",
      " [9.97525212e-01]\n",
      " [9.96786860e-01]\n",
      " [6.92152035e-04]]\n",
      "Error in epoch: 9996\n",
      "9.261558484420382e-06\n",
      "Prediction in epoch: 9997\n",
      "[[1.26288050e-03]\n",
      " [9.97525470e-01]\n",
      " [9.96787191e-01]\n",
      " [6.92077580e-04]]\n",
      "Error in epoch: 9997\n",
      "9.259639117807574e-06\n",
      "Prediction in epoch: 9998\n",
      "[[1.26274885e-03]\n",
      " [9.97525728e-01]\n",
      " [9.96787522e-01]\n",
      " [6.92003142e-04]]\n",
      "Error in epoch: 9998\n",
      "9.257720344734497e-06\n",
      "Prediction in epoch: 9999\n",
      "[[1.26261723e-03]\n",
      " [9.97525986e-01]\n",
      " [9.96787853e-01]\n",
      " [6.91928719e-04]]\n",
      "Error in epoch: 9999\n",
      "9.25580216494203e-06\n"
     ]
    }
   ],
   "source": [
    "cost_error_array = []\n",
    "for i in range(1,epoch):\n",
    "    # Forward Pass\n",
    "    # from input to hidden\n",
    "    z_h = np.dot(X, w01)\n",
    "    a_h = pitanh(z_h)\n",
    "\n",
    "    # from hidden to output\n",
    "    z_o = np.dot(a_h, w12)\n",
    "    a_o = pitanh(z_o)\n",
    "\n",
    "    # print intermediate results\n",
    "    print(\"Prediction in epoch: \" + str(i))\n",
    "    print(a_o)\n",
    "    # Calculating the error\n",
    "    a_o_error = (1/2)*np.sum((np.power((a_o - Y), 2)))\n",
    "    print(\"Error in epoch: \" + str(i))\n",
    "    print(a_o_error)\n",
    "    cost_error_array.append(a_o_error)\n",
    "#    if a_o_error <= covergence_threshold:\n",
    "#        print(\"Reached convergence...exiting.\")\n",
    "#        break\n",
    "    \n",
    "    # Backpropagation\n",
    "    delta_a_o_error = a_o - Y\n",
    "    #delta_z_o = grtanh_derivative(a_o,(epoch-i)%10)\n",
    "    delta_z_o = pitanh_derivative(a_o)\n",
    "    delta_w12 = a_h\n",
    "    delta_output_layer = np.dot(delta_w12.T,(delta_a_o_error * delta_z_o))\n",
    "    \n",
    "    delta_a_h = np.dot(delta_a_o_error * delta_z_o, w12.T)\n",
    "    #delta_z_h = grtanh_derivative(a_h,(epoch-i)%10)\n",
    "    delta_z_h = pitanh_derivative(a_h)\n",
    "    delta_w01 = X\n",
    "    delta_hidden_layer = np.dot(delta_w01.T, delta_a_h * delta_z_h)\n",
    "    \n",
    "    #Update the weights\n",
    "    w01 = w01 - alpha*delta_hidden_layer\n",
    "    w12 = w12 - alpha*delta_output_layer"
   ]
  },
  {
   "cell_type": "markdown",
   "metadata": {},
   "source": [
    "##### Logistic Activation Function"
   ]
  },
  {
   "cell_type": "code",
   "execution_count": 125,
   "metadata": {},
   "outputs": [
    {
     "data": {
      "image/png": "[encoded data removed]",
      "text/plain": [
       "<matplotlib.figure.Figure at 0x1a9ed5864e0>"
      ]
     },
     "metadata": {},
     "output_type": "display_data"
    },
    {
     "name": "stdout",
     "output_type": "stream",
     "text": [
      "Weights:\n",
      "Input to Hidden Layer: [[ -2.40400411  12.60817337  -1.42897453  21.4595374 ]\n",
      " [  7.1647845  -15.890272    -1.16658064  -8.01260252]\n",
      " [ 18.84119051   2.17317557   2.46783656 -21.70322739]]\n",
      "Hidden Layer to Output: [[ -9.9682846 ]\n",
      " [-12.36204616]\n",
      " [ 18.06911532]\n",
      " [ 30.11870201]]\n"
     ]
    }
   ],
   "source": [
    "plt.plot(np.arange(1,epoch),cost_error_array)\n",
    "plt.ylim(0,1)\n",
    "plt.xlabel('Epochs')\n",
    "plt.ylabel('Loss')\n",
    "plt.title(str('Logistic Activation Function ') + str('Epochs: ' + str(epoch) + ', LearningRate: '+str(alpha) +', Num. of Hidden Nodes: '+str(hidden_layer_nodes)))\n",
    "plt.show()\n",
    "print(\"Weights:\")\n",
    "print(\"Input to Hidden Layer: \" + str(w01))\n",
    "print(\"Hidden Layer to Output: \" + str(w12))"
   ]
  },
  {
   "cell_type": "markdown",
   "metadata": {},
   "source": [
    "##### TanH Activation Function"
   ]
  },
  {
   "cell_type": "code",
   "execution_count": 142,
   "metadata": {},
   "outputs": [
    {
     "data": {
      "image/png": "[encoded data removed]",
      "text/plain": [
       "<matplotlib.figure.Figure at 0x1a9ec536940>"
      ]
     },
     "metadata": {},
     "output_type": "display_data"
    },
    {
     "name": "stdout",
     "output_type": "stream",
     "text": [
      "Weights:\n",
      "Input to Hidden Layer: [[ 1.67764718  1.5716218   1.28573173]\n",
      " [-0.92999539  1.02926218  1.77276282]\n",
      " [-1.55677611 -1.98779305 -0.51223542]]\n",
      "Hidden Layer to Output: [[ 1.50613289]\n",
      " [-2.65492315]\n",
      " [ 2.4925882 ]]\n"
     ]
    }
   ],
   "source": [
    "plt.plot(np.arange(1,epoch),cost_error_array)\n",
    "plt.ylim(0,1)\n",
    "plt.xlabel('Epochs')\n",
    "plt.ylabel('Loss')\n",
    "plt.title(str('TanH Activation Function ') + str('Epochs: ' + str(epoch) + ', LearningRate: '+str(alpha) +', Num. of Hidden Nodes: '+str(hidden_layer_nodes)))\n",
    "plt.show()\n",
    "print(\"Weights:\")\n",
    "print(\"Input to Hidden Layer: \" + str(w01))\n",
    "print(\"Hidden Layer to Output: \" + str(w12))"
   ]
  },
  {
   "cell_type": "markdown",
   "metadata": {},
   "source": [
    "##### A new variation - PiTanH Activation Function\n",
    "Seems to converge faster than TanH"
   ]
  },
  {
   "cell_type": "code",
   "execution_count": 287,
   "metadata": {},
   "outputs": [
    {
     "data": {
      "image/png": "[encoded data removed]",
      "text/plain": [
       "<matplotlib.figure.Figure at 0x1a9ec4237f0>"
      ]
     },
     "metadata": {},
     "output_type": "display_data"
    },
    {
     "name": "stdout",
     "output_type": "stream",
     "text": [
      "Weights:\n",
      "Input to Hidden Layer: [[ 2.19120212  1.85918411 -0.52944586]\n",
      " [ 2.05319813  1.96278029  0.08314931]\n",
      " [-0.87496555 -2.88848914 -0.77393529]]\n",
      "Hidden Layer to Output: [[ 2.76747167]\n",
      " [-2.61721229]\n",
      " [ 1.00492093]]\n"
     ]
    }
   ],
   "source": [
    "plt.plot(np.arange(1,epoch),cost_error_array)\n",
    "plt.ylim(0,1)\n",
    "plt.xlabel('Epochs')\n",
    "plt.ylabel('Loss')\n",
    "plt.title(str('Pi(10)-TanH Activation Function ') + str('Epochs: ' + str(epoch) + ', LearningRate: '+str(alpha) +', Num. of Hidden Nodes: '+str(hidden_layer_nodes)))\n",
    "plt.show()\n",
    "print(\"Weights:\")\n",
    "print(\"Input to Hidden Layer: \" + str(w01))\n",
    "print(\"Hidden Layer to Output: \" + str(w12))"
   ]
  },
  {
   "cell_type": "markdown",
   "metadata": {},
   "source": [
    "##### Different precision of Pi - 15,20"
   ]
  },
  {
   "cell_type": "code",
   "execution_count": 294,
   "metadata": {},
   "outputs": [
    {
     "data": {
      "image/png": "[encoded data removed]",
      "text/plain": [
       "<matplotlib.figure.Figure at 0x1a9ec423198>"
      ]
     },
     "metadata": {},
     "output_type": "display_data"
    },
    {
     "name": "stdout",
     "output_type": "stream",
     "text": [
      "Weights:\n",
      "Input to Hidden Layer: [[ 2.18371576 -1.59596752  1.68379115]\n",
      " [ 1.81117625 -1.92086515 -0.66737181]\n",
      " [-0.76789957  2.69921816  0.85990951]]\n",
      "Hidden Layer to Output: [[ 2.88865253]\n",
      " [ 2.67529917]\n",
      " [-1.12819533]]\n"
     ]
    }
   ],
   "source": [
    "plt.plot(np.arange(1,epoch),cost_error_array)\n",
    "plt.ylim(0,1)\n",
    "plt.xlabel('Epochs')\n",
    "plt.ylabel('Loss')\n",
    "plt.title(str('Pi(15)-TanH Activation Function ') + str('Epochs: ' + str(epoch) + ', LearningRate: '+str(alpha) +', Num. of Hidden Nodes: '+str(hidden_layer_nodes)))\n",
    "plt.show()\n",
    "print(\"Weights:\")\n",
    "print(\"Input to Hidden Layer: \" + str(w01))\n",
    "print(\"Hidden Layer to Output: \" + str(w12))"
   ]
  },
  {
   "cell_type": "code",
   "execution_count": 299,
   "metadata": {},
   "outputs": [
    {
     "data": {
      "image/png": "[encoded data removed]",
      "text/plain": [
       "<matplotlib.figure.Figure at 0x1a9ed76c128>"
      ]
     },
     "metadata": {},
     "output_type": "display_data"
    },
    {
     "name": "stdout",
     "output_type": "stream",
     "text": [
      "Weights:\n",
      "Input to Hidden Layer: [[-0.87094723  1.6789499  -3.3883634 ]\n",
      " [ 1.96292031  2.74692745 -0.07507091]\n",
      " [ 0.14162375 -0.4155923   2.15906284]]\n",
      "Hidden Layer to Output: [[-2.65075336]\n",
      " [ 3.94617765]\n",
      " [ 1.9772921 ]]\n"
     ]
    }
   ],
   "source": [
    "plt.plot(np.arange(1,epoch),cost_error_array)\n",
    "plt.ylim(0,1)\n",
    "plt.xlabel('Epochs')\n",
    "plt.ylabel('Loss')\n",
    "plt.title(str('Pi(20)-TanH Activation Function ') + str('Epochs: ' + str(epoch) + ', LearningRate: '+str(alpha) +', Num. of Hidden Nodes: '+str(hidden_layer_nodes)))\n",
    "plt.show()\n",
    "print(\"Weights:\")\n",
    "print(\"Input to Hidden Layer: \" + str(w01))\n",
    "print(\"Hidden Layer to Output: \" + str(w12))"
   ]
  },
  {
   "cell_type": "markdown",
   "metadata": {},
   "source": [
    "##### A new variation - GoldenRatio TanH Activation Function"
   ]
  },
  {
   "cell_type": "code",
   "execution_count": 268,
   "metadata": {
    "scrolled": false
   },
   "outputs": [
    {
     "data": {
      "image/png": "[encoded data removed]",
      "text/plain": [
       "<matplotlib.figure.Figure at 0x1a9ec31bc18>"
      ]
     },
     "metadata": {},
     "output_type": "display_data"
    },
    {
     "name": "stdout",
     "output_type": "stream",
     "text": [
      "Weights:\n",
      "Input to Hidden Layer: [[ -23.26545125   -5.81570968 -266.37533438]\n",
      " [  23.75617371    6.09667022  106.20093049]\n",
      " [  -2.3720925     1.68440696 -151.05244055]]\n",
      "Hidden Layer to Output: [[ 1.86255923]\n",
      " [-1.8505437 ]\n",
      " [-3.5579354 ]]\n"
     ]
    }
   ],
   "source": [
    "plt.plot(np.arange(1,epoch),cost_error_array)\n",
    "plt.ylim(0,1)\n",
    "plt.xlabel('Epochs')\n",
    "plt.ylabel('Loss')\n",
    "plt.title(str('GR-TanH Activation Function ') + str('Epochs: ' + str(epoch) + ', LearningRate: '+str(alpha) +', Num. of Hidden Nodes: '+str(hidden_layer_nodes)))\n",
    "plt.show()\n",
    "print(\"Weights:\")\n",
    "print(\"Input to Hidden Layer: \" + str(w01))\n",
    "print(\"Hidden Layer to Output: \" + str(w12))"
   ]
  },
  {
   "cell_type": "markdown",
   "metadata": {},
   "source": [
    "##### ReLU Activation Function\n",
    "Not suitable for single hidden layer"
   ]
  },
  {
   "cell_type": "code",
   "execution_count": 272,
   "metadata": {},
   "outputs": [
    {
     "data": {
      "image/png": "[encoded data removed]",
      "text/plain": [
       "<matplotlib.figure.Figure at 0x1a9ed577438>"
      ]
     },
     "metadata": {},
     "output_type": "display_data"
    },
    {
     "name": "stdout",
     "output_type": "stream",
     "text": [
      "Weights:\n",
      "Input to Hidden Layer: [[ 0.5386498  -1.42191689 -0.22284587  0.47645299 -0.75142151 -0.82326381\n",
      "  -0.56456466]\n",
      " [ 0.37345353 -0.50204205 -0.49645332 -0.0471798  -2.08676522  0.10948302\n",
      "  -1.68944228]\n",
      " [-0.45779912 -0.81653783  0.44176758 -0.43538725  0.63488181 -0.38218444\n",
      "  -2.1925688 ]]\n",
      "Hidden Layer to Output: [[-0.78177702]\n",
      " [ 0.26736151]\n",
      " [-0.0117439 ]\n",
      " [-0.91807493]\n",
      " [-1.00025615]\n",
      " [-0.37690269]\n",
      " [ 1.83228858]]\n"
     ]
    }
   ],
   "source": [
    "plt.plot(np.arange(1,epoch),cost_error_array)\n",
    "plt.ylim(0,2)\n",
    "plt.xlabel('Epochs')\n",
    "plt.ylabel('Loss')\n",
    "plt.title(str('ReLU Activation Function ') + str('Epochs: ' + str(epoch) + ', LearningRate: '+str(alpha) +', Num. of Hidden Nodes: '+str(hidden_layer_nodes)))\n",
    "plt.show()\n",
    "print(\"Weights:\")\n",
    "print(\"Input to Hidden Layer: \" + str(w01))\n",
    "print(\"Hidden Layer to Output: \" + str(w12))"
   ]
  }
 ],
 "metadata": {
  "kernelspec": {
   "display_name": "Python 3",
   "language": "python",
   "name": "python3"
  },
  "language_info": {
   "codemirror_mode": {
    "name": "ipython",
    "version": 3
   },
   "file_extension": ".py",
   "mimetype": "text/x-python",
   "name": "python",
   "nbconvert_exporter": "python",
   "pygments_lexer": "ipython3",
   "version": "3.6.4"
  }
 },
 "nbformat": 4,
 "nbformat_minor": 2
}
